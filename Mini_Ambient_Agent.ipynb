{
  "nbformat": 4,
  "nbformat_minor": 0,
  "metadata": {
    "colab": {
      "provenance": []
    },
    "kernelspec": {
      "name": "python3",
      "display_name": "Python 3"
    },
    "language_info": {
      "name": "python"
    }
  },
  "cells": [
    {
      "cell_type": "code",
      "source": [
        "!pip install -U langchain-openai\n",
        "!pip install -q python-docx!pip install -q python-docx gradio langchain-openai\n",
        "!pip install -q python-docx gradio langchain-openai"
      ],
      "metadata": {
        "id": "hrgdg3pQRd2i"
      },
      "execution_count": null,
      "outputs": []
    },
    {
      "cell_type": "markdown",
      "source": [
        "### **Reuired libraries**"
      ],
      "metadata": {
        "id": "RsY4iTmPoziY"
      }
    },
    {
      "cell_type": "code",
      "source": [
        "import os\n",
        "import getpass\n",
        "from docx import Document\n",
        "import gradio as gr\n",
        "from langchain_openai import OpenAI\n",
        "from langchain.prompts import PromptTemplate\n"
      ],
      "metadata": {
        "id": "le9PVvm2QW7X"
      },
      "execution_count": null,
      "outputs": []
    },
    {
      "cell_type": "code",
      "source": [
        "# 🔐 Set API Key\n",
        "os.environ[\"OPENAI_API_KEY\"] = getpass.getpass(\"Enter your OpenAI API Key: \")\n",
        "\n",
        "# Extract Text from DOCX\n",
        "def extract_text_from_docx(file):\n",
        "    doc = Document(file.name)\n",
        "    return \"\\n\".join([para.text for para in doc.paragraphs if para.text.strip()])"
      ],
      "metadata": {
        "colab": {
          "base_uri": "https://localhost:8080/"
        },
        "id": "cn4hOhjuosSl",
        "outputId": "f4b6f2ba-bfd0-485e-f1f5-79f4f6e70c75"
      },
      "execution_count": null,
      "outputs": [
        {
          "name": "stdout",
          "output_type": "stream",
          "text": [
            "Enter your OpenAI API Key: ··········\n"
          ]
        }
      ]
    },
    {
      "cell_type": "markdown",
      "source": [
        "### **Set up the LLM**"
      ],
      "metadata": {
        "id": "Cu-sq6d6o9wz"
      }
    },
    {
      "cell_type": "code",
      "source": [
        "llm = OpenAI(temperature=0.4)"
      ],
      "metadata": {
        "id": "L8JvON0iQqxS"
      },
      "execution_count": null,
      "outputs": []
    },
    {
      "cell_type": "code",
      "source": [
        "def summarize_and_generate_agenda(text):\n",
        "    # Pre-meeting agenda\n",
        "    prompt_agenda = PromptTemplate.from_template(\n",
        "        \"You're an assistant preparing for a meeting. Generate a structured agenda from the following:\\n\\n{input}\"\n",
        "    ).format(input=text)\n",
        "    agenda = llm.invoke(prompt_agenda)\n",
        "\n",
        "    # Post-meeting summary\n",
        "    prompt_summary = PromptTemplate.from_template(\n",
        "        \"Summarize this meeting text and list 3-5 key action items clearly:\\n\\n{input}\"\n",
        "    ).format(input=text)\n",
        "    summary = llm.invoke(prompt_summary)\n",
        "\n",
        "    return agenda.strip(), summary.strip()"
      ],
      "metadata": {
        "id": "tCIjbwGWo865"
      },
      "execution_count": null,
      "outputs": []
    },
    {
      "cell_type": "code",
      "source": [
        "def process_meeting(file):\n",
        "    extracted_text = extract_text_from_docx(file)\n",
        "    agenda, summary = summarize_and_generate_agenda(extracted_text)\n",
        "    return agenda, summary\n",
        "\n",
        "with gr.Blocks() as ui:\n",
        "    gr.Markdown(\"## 🤖 Meeting Whisperer: AI-Powered Assistant\")\n",
        "    gr.Markdown(\"Upload your meeting notes (.docx) and get a structured agenda and summary.\")\n",
        "\n",
        "    with gr.Row():\n",
        "        file_input = gr.File(label=\"Upload Meeting Notes (.docx)\")\n",
        "        submit_btn = gr.Button(\"Generate Insights\", variant=\"primary\")\n",
        "\n",
        "    with gr.Row():\n",
        "        agenda_output = gr.Textbox(label=\"📌 Generated Agenda\", lines=10)\n",
        "        summary_output = gr.Textbox(label=\"🧾 Summary + Action Items\", lines=10)\n",
        "\n",
        "    submit_btn.click(fn=process_meeting, inputs=[file_input], outputs=[agenda_output, summary_output])\n",
        "\n",
        "ui.launch()"
      ],
      "metadata": {
        "colab": {
          "base_uri": "https://localhost:8080/",
          "height": 645
        },
        "id": "xdBsSewqRsi9",
        "outputId": "d1d3b102-db02-4b07-f25a-8e8de0b0ec3f"
      },
      "execution_count": null,
      "outputs": [
        {
          "output_type": "stream",
          "name": "stdout",
          "text": [
            "It looks like you are running Gradio on a hosted Jupyter notebook, which requires `share=True`. Automatically setting `share=True` (you can turn this off by setting `share=False` in `launch()` explicitly).\n",
            "\n",
            "Colab notebook detected. To show errors in colab notebook, set debug=True in launch()\n",
            "* Running on public URL: https://2480bfb9b450a0bdf3.gradio.live\n",
            "\n",
            "This share link expires in 1 week. For free permanent hosting and GPU upgrades, run `gradio deploy` from the terminal in the working directory to deploy to Hugging Face Spaces (https://huggingface.co/spaces)\n"
          ]
        },
        {
          "output_type": "display_data",
          "data": {
            "text/plain": [
              "<IPython.core.display.HTML object>"
            ],
            "text/html": [
              "<div><iframe src=\"https://2480bfb9b450a0bdf3.gradio.live\" width=\"100%\" height=\"500\" allow=\"autoplay; camera; microphone; clipboard-read; clipboard-write;\" frameborder=\"0\" allowfullscreen></iframe></div>"
            ]
          },
          "metadata": {}
        },
        {
          "output_type": "execute_result",
          "data": {
            "text/plain": []
          },
          "metadata": {},
          "execution_count": 7
        }
      ]
    },
    {
      "cell_type": "code",
      "source": [],
      "metadata": {
        "id": "2BvkhKlyY9Sv"
      },
      "execution_count": null,
      "outputs": []
    }
  ]
}